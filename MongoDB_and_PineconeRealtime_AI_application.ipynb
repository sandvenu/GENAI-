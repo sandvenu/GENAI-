{
  "nbformat": 4,
  "nbformat_minor": 0,
  "metadata": {
    "colab": {
      "provenance": [],
      "gpuType": "T4",
      "authorship_tag": "ABX9TyNnSs0liPj2+2jii7+5M3GF",
      "include_colab_link": true
    },
    "kernelspec": {
      "name": "python3",
      "display_name": "Python 3"
    },
    "language_info": {
      "name": "python"
    },
    "accelerator": "GPU"
  },
  "cells": [
    {
      "cell_type": "markdown",
      "metadata": {
        "id": "view-in-github",
        "colab_type": "text"
      },
      "source": [
        "<a href=\"https://colab.research.google.com/github/sandvenu/GENAI-/blob/main/MongoDB_and_PineconeRealtime_AI_application.ipynb\" target=\"_parent\"><img src=\"https://colab.research.google.com/assets/colab-badge.svg\" alt=\"Open In Colab\"/></a>"
      ]
    },
    {
      "cell_type": "markdown",
      "source": [
        "Soource the required librares first"
      ],
      "metadata": {
        "id": "F6TZYZ6zlcTH"
      }
    },
    {
      "cell_type": "code",
      "execution_count": null,
      "metadata": {
        "id": "zxk_0JCzV2j1"
      },
      "outputs": [],
      "source": [
        "!pip install pinecone-client  pymongo  transformers"
      ]
    },
    {
      "cell_type": "code",
      "source": [
        "! pip install \"pymongo[srv]\"==3.11"
      ],
      "metadata": {
        "id": "OPPkacTvWTVY",
        "colab": {
          "base_uri": "https://localhost:8080/"
        },
        "outputId": "9ea479e2-2d8d-4416-e347-ad987f8bffbe"
      },
      "execution_count": 27,
      "outputs": [
        {
          "output_type": "stream",
          "name": "stdout",
          "text": [
            "Requirement already satisfied: pymongo[srv]==3.11 in /usr/local/lib/python3.10/dist-packages (3.11.0)\n",
            "Requirement already satisfied: dnspython<2.0.0,>=1.16.0 in /usr/local/lib/python3.10/dist-packages (from pymongo[srv]==3.11) (1.16.0)\n"
          ]
        }
      ]
    },
    {
      "cell_type": "markdown",
      "source": [
        "Establish the Mongo DB connection"
      ],
      "metadata": {
        "id": "Mu8ZIJ7wlk35"
      }
    },
    {
      "cell_type": "code",
      "source": [
        "\n",
        "from pymongo.mongo_client import MongoClient\n",
        "\n",
        "uri = \"mongodb+srv://##########@cluster0.itasbqv.mongodb.net/?retryWrites=true&w=majority&appName=Cluster0\"\n",
        "\n",
        "# Create a new client and connect to the server\n",
        "client = MongoClient(uri)\n",
        "\n",
        "# Send a ping to confirm a successful connection\n",
        "try:\n",
        "    client.admin.command('ping')\n",
        "    print(\"Pinged your deployment. You successfully connected to MongoDB!\")\n",
        "except Exception as e:\n",
        "    print(e)"
      ],
      "metadata": {
        "colab": {
          "base_uri": "https://localhost:8080/"
        },
        "id": "8Lm0aB15gRS4",
        "outputId": "127e8cb9-e28a-4cad-9196-16ff94b09cbb"
      },
      "execution_count": 28,
      "outputs": [
        {
          "output_type": "stream",
          "name": "stdout",
          "text": [
            "Pinged your deployment. You successfully connected to MongoDB!\n"
          ]
        }
      ]
    },
    {
      "cell_type": "markdown",
      "source": [
        "Establsih the Pine cone connection for Vector DB"
      ],
      "metadata": {
        "id": "x0reFQy-ltOk"
      }
    },
    {
      "cell_type": "code",
      "source": [
        "from pinecone import Pinecone, ServerlessSpec\n",
        "\n",
        "pc = Pinecone(api_key=\"39f2e44a-de8c-4b87-b631-b50cfca30590\")"
      ],
      "metadata": {
        "id": "h8T2wTbhhVsx"
      },
      "execution_count": 29,
      "outputs": []
    },
    {
      "cell_type": "code",
      "source": [
        "pc.create_index(\n",
        "    name=\"quickstart4\",\n",
        "    dimension=384, # Replace with your model dimensions\n",
        "    metric=\"euclidean\", # Replace with your model metric\n",
        "    spec=ServerlessSpec(\n",
        "        cloud=\"aws\",\n",
        "        region=\"us-east-1\"\n",
        "    )\n",
        ")"
      ],
      "metadata": {
        "id": "-EtJPMqDhfTk"
      },
      "execution_count": 30,
      "outputs": []
    },
    {
      "cell_type": "code",
      "source": [
        "!pip install sentence-transformers"
      ],
      "metadata": {
        "id": "WHkY4ssTiQ56"
      },
      "execution_count": null,
      "outputs": []
    },
    {
      "cell_type": "code",
      "source": [
        "from sentence_transformers import SentenceTransformer, util"
      ],
      "metadata": {
        "id": "ZRStrl3QiAxO"
      },
      "execution_count": 32,
      "outputs": []
    },
    {
      "cell_type": "code",
      "source": [
        "# transformer stuff\n",
        "model = SentenceTransformer('sentence-transformers/all-MiniLM-L6-v2')"
      ],
      "metadata": {
        "id": "bL40z2awhqWe"
      },
      "execution_count": 33,
      "outputs": []
    },
    {
      "cell_type": "code",
      "source": [
        "db = client['mydb']\n",
        "collection = db['mycollection']"
      ],
      "metadata": {
        "id": "tmZKA0VOiqNV"
      },
      "execution_count": 34,
      "outputs": []
    },
    {
      "cell_type": "markdown",
      "source": [
        "Insert a record in Mongo DB"
      ],
      "metadata": {
        "id": "SvJjHRBMl2Cz"
      }
    },
    {
      "cell_type": "markdown",
      "source": [
        "Based on create/Update/Delete records in MOngo DB update the embeddings in Pine cone DB"
      ],
      "metadata": {
        "id": "_QmWMqrMl7KL"
      }
    },
    {
      "cell_type": "code",
      "source": [
        "index = pc.Index(\"quickstart4\")"
      ],
      "metadata": {
        "id": "Z4JyjZJ_WbM8"
      },
      "execution_count": 35,
      "outputs": []
    },
    {
      "cell_type": "code",
      "source": [
        "import threading\n",
        "import time\n",
        "from pymongo import MongoClient\n",
        "\n",
        "def listen_to_changes(collection):\n",
        "\n",
        "    try:\n",
        "        print(\"Starting to watch the collection for changes...\")\n",
        "        with collection.watch(full_document='updateLookup') as stream:\n",
        "            print(\"Change stream is now open.\")\n",
        "            for change in stream:\n",
        "                print(\"Change detected:\", change)\n",
        "                if change['operationType'] == 'insert':\n",
        "                   document = change['fullDocument']\n",
        "                   # convert the document's name into an embedding\n",
        "                   vector = model.encode(document['name'])\n",
        "                   # Ensure the vector is a flat list of floats (and possibly convert to float64)\n",
        "                   vector = vector.tolist()  # Convert from numpy array to list\n",
        "                   vector = [float(x) for x in vector]  # Convert elements to float (usually float64)\n",
        "                   # Prepare the data for Pinecone upsert, which requires a tuple of (id, vector)\n",
        "                   # Assuming 'document['_id']' is the unique ID for the upsert operation\n",
        "                   upsert_data = (str(document['_id']), vector)\n",
        "                  # Insert into Pinecone\n",
        "                   index.upsert([upsert_data])  # Note that upsert_data is enclosed in a list\n",
        "                   # insert into pinecone\n",
        "                   #index.upsert(vector)\n",
        "                   #pc.upsert(index_name=\"quickstart3\", data=vector, ids=[str(document['_id'])])\n",
        "            print(\"Exited the change stream loop.\")\n",
        "        print(\"Change stream closed.\")\n",
        "    except Exception as e:\n",
        "        print(f\"An error occurred in the change stream: {e}\")\n",
        "client = MongoClient(uri)\n",
        "db = client['mydb']\n",
        "collection = db['mycollection']\n",
        "\n",
        "# Start listening to change stream in a separate thread\n",
        "listener_thread = threading.Thread(target=listen_to_changes, args=(collection,))\n",
        "listener_thread.start()\n",
        "\n",
        "# Sleep for a short period to ensure the listener thread is ready\n",
        "time.sleep(2)\n",
        "\n",
        "# Now the main thread is free to perform other operations on the collection\n",
        "collection.insert_one({'name': 'Xouglas', 'age': 36, 'city': 'New York'})\n",
        "\n",
        "# Wait for the listener thread to finish (it won't in this example, due to the infinite loop)\n",
        "listener_thread.join()"
      ],
      "metadata": {
        "colab": {
          "base_uri": "https://localhost:8080/"
        },
        "id": "o9drWllxOfqU",
        "outputId": "f0546e76-990b-4b93-a5a8-0c5e1d3cd458"
      },
      "execution_count": null,
      "outputs": [
        {
          "output_type": "stream",
          "name": "stdout",
          "text": [
            "Starting to watch the collection for changes...\n",
            "Change stream is now open.\n",
            "{'_id': {'_data': '82663248DB000000092B042C0100296E5A10040F523822A86D4249A07E10289236A57E463C6F7065726174696F6E54797065003C696E736572740046646F63756D656E744B65790046645F69640064663248DA2800D792E906C958000004'}, 'operationType': 'insert', 'clusterTime': Timestamp(1714571483, 9), 'wallTime': datetime.datetime(2024, 5, 1, 13, 51, 23, 630000), 'fullDocument': {'_id': ObjectId('663248da2800d792e906c958'), 'name': 'Xouglas', 'age': 36, 'city': 'New York'}, 'ns': {'db': 'mydb', 'coll': 'mycollection'}, 'documentKey': {'_id': ObjectId('663248da2800d792e906c958')}}{'_id': {'_data': '82663248DB000000092B042C0100296E5A10040F523822A86D4249A07E10289236A57E463C6F7065726174696F6E54797065003C696E736572740046646F63756D656E744B65790046645F69640064663248DA2800D792E906C958000004'}, 'operationType': 'insert', 'clusterTime': Timestamp(1714571483, 9), 'wallTime': datetime.datetime(2024, 5, 1, 13, 51, 23, 630000), 'fullDocument': {'_id': ObjectId('663248da2800d792e906c958'), 'name': 'Xouglas', 'age': 36, 'city': 'New York'}, 'ns': {'db': 'mydb', 'coll': 'mycollection'}, 'documentKey': {'_id': ObjectId('663248da2800d792e906c958')}}\n",
            "\n",
            "{'_id': {'_data': '82663248DB000000092B042C0100296E5A10040F523822A86D4249A07E10289236A57E463C6F7065726174696F6E54797065003C696E736572740046646F63756D656E744B65790046645F69640064663248DA2800D792E906C958000004'}, 'operationType': 'insert', 'clusterTime': Timestamp(1714571483, 9), 'wallTime': datetime.datetime(2024, 5, 1, 13, 51, 23, 630000), 'fullDocument': {'_id': ObjectId('663248da2800d792e906c958'), 'name': 'Xouglas', 'age': 36, 'city': 'New York'}, 'ns': {'db': 'mydb', 'coll': 'mycollection'}, 'documentKey': {'_id': ObjectId('663248da2800d792e906c958')}}\n",
            "{'_id': {'_data': '82663248DB000000092B042C0100296E5A10040F523822A86D4249A07E10289236A57E463C6F7065726174696F6E54797065003C696E736572740046646F63756D656E744B65790046645F69640064663248DA2800D792E906C958000004'}, 'operationType': 'insert', 'clusterTime': Timestamp(1714571483, 9), 'wallTime': datetime.datetime(2024, 5, 1, 13, 51, 23, 630000), 'fullDocument': {'_id': ObjectId('663248da2800d792e906c958'), 'name': 'Xouglas', 'age': 36, 'city': 'New York'}, 'ns': {'db': 'mydb', 'coll': 'mycollection'}, 'documentKey': {'_id': ObjectId('663248da2800d792e906c958')}}\n",
            "{'_id': {'_data': '82663248DB000000092B042C0100296E5A10040F523822A86D4249A07E10289236A57E463C6F7065726174696F6E54797065003C696E736572740046646F63756D656E744B65790046645F69640064663248DA2800D792E906C958000004'}, 'operationType': 'insert', 'clusterTime': Timestamp(1714571483, 9), 'wallTime': datetime.datetime(2024, 5, 1, 13, 51, 23, 630000), 'fullDocument': {'_id': ObjectId('663248da2800d792e906c958'), 'name': 'Xouglas', 'age': 36, 'city': 'New York'}, 'ns': {'db': 'mydb', 'coll': 'mycollection'}, 'documentKey': {'_id': ObjectId('663248da2800d792e906c958')}}\n",
            "{'_id': {'_data': '82663248DB000000092B042C0100296E5A10040F523822A86D4249A07E10289236A57E463C6F7065726174696F6E54797065003C696E736572740046646F63756D656E744B65790046645F69640064663248DA2800D792E906C958000004'}, 'operationType': 'insert', 'clusterTime': Timestamp(1714571483, 9), 'wallTime': datetime.datetime(2024, 5, 1, 13, 51, 23, 630000), 'fullDocument': {'_id': ObjectId('663248da2800d792e906c958'), 'name': 'Xouglas', 'age': 36, 'city': 'New York'}, 'ns': {'db': 'mydb', 'coll': 'mycollection'}, 'documentKey': {'_id': ObjectId('663248da2800d792e906c958')}}\n",
            "Change detected: {'_id': {'_data': '82663248DB000000092B042C0100296E5A10040F523822A86D4249A07E10289236A57E463C6F7065726174696F6E54797065003C696E736572740046646F63756D656E744B65790046645F69640064663248DA2800D792E906C958000004'}, 'operationType': 'insert', 'clusterTime': Timestamp(1714571483, 9), 'wallTime': datetime.datetime(2024, 5, 1, 13, 51, 23, 630000), 'fullDocument': {'_id': ObjectId('663248da2800d792e906c958'), 'name': 'Xouglas', 'age': 36, 'city': 'New York'}, 'ns': {'db': 'mydb', 'coll': 'mycollection'}, 'documentKey': {'_id': ObjectId('663248da2800d792e906c958')}}\n",
            "{'_id': {'_data': '82663248DB000000092B042C0100296E5A10040F523822A86D4249A07E10289236A57E463C6F7065726174696F6E54797065003C696E736572740046646F63756D656E744B65790046645F69640064663248DA2800D792E906C958000004'}, 'operationType': 'insert', 'clusterTime': Timestamp(1714571483, 9), 'wallTime': datetime.datetime(2024, 5, 1, 13, 51, 23, 630000), 'fullDocument': {'_id': ObjectId('663248da2800d792e906c958'), 'name': 'Xouglas', 'age': 36, 'city': 'New York'}, 'ns': {'db': 'mydb', 'coll': 'mycollection'}, 'documentKey': {'_id': ObjectId('663248da2800d792e906c958')}}\n",
            "Change detected: {'_id': {'_data': '82663248DB000000092B042C0100296E5A10040F523822A86D4249A07E10289236A57E463C6F7065726174696F6E54797065003C696E736572740046646F63756D656E744B65790046645F69640064663248DA2800D792E906C958000004'}, 'operationType': 'insert', 'clusterTime': Timestamp(1714571483, 9), 'wallTime': datetime.datetime(2024, 5, 1, 13, 51, 23, 630000), 'fullDocument': {'_id': ObjectId('663248da2800d792e906c958'), 'name': 'Xouglas', 'age': 36, 'city': 'New York'}, 'ns': {'db': 'mydb', 'coll': 'mycollection'}, 'documentKey': {'_id': ObjectId('663248da2800d792e906c958')}}\n"
          ]
        }
      ]
    }
  ]
}